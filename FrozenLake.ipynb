{
 "cells": [
  {
   "cell_type": "markdown",
   "metadata": {},
   "source": [
    "# random action 버전"
   ]
  },
  {
   "cell_type": "code",
   "execution_count": 2,
   "metadata": {},
   "outputs": [
    {
     "name": "stdout",
     "output_type": "stream",
     "text": [
      "0 0.0 False False {'prob': 0.3333333333333333}\n",
      "0 0.0 False False {'prob': 0.3333333333333333}\n",
      "0 0.0 False False {'prob': 0.3333333333333333}\n",
      "0 0.0 False False {'prob': 0.3333333333333333}\n",
      "1 0.0 False False {'prob': 0.3333333333333333}\n",
      "2 0.0 False False {'prob': 0.3333333333333333}\n",
      "3 0.0 False False {'prob': 0.3333333333333333}\n",
      "2 0.0 False False {'prob': 0.3333333333333333}\n",
      "6 0.0 False False {'prob': 0.3333333333333333}\n",
      "2 0.0 False False {'prob': 0.3333333333333333}\n",
      "6 0.0 False False {'prob': 0.3333333333333333}\n",
      "2 0.0 False False {'prob': 0.3333333333333333}\n",
      "1 0.0 False False {'prob': 0.3333333333333333}\n",
      "0 0.0 False False {'prob': 0.3333333333333333}\n",
      "1 0.0 False False {'prob': 0.3333333333333333}\n",
      "5 0.0 True False {'prob': 0.3333333333333333}\n",
      "Episode:1 Score:0.0\n",
      "0 0.0 False False {'prob': 0.3333333333333333}\n",
      "0 0.0 False False {'prob': 0.3333333333333333}\n",
      "4 0.0 False False {'prob': 0.3333333333333333}\n",
      "0 0.0 False False {'prob': 0.3333333333333333}\n"
     ]
    },
    {
     "ename": "KeyboardInterrupt",
     "evalue": "",
     "output_type": "error",
     "traceback": [
      "\u001b[1;31m---------------------------------------------------------------------------\u001b[0m",
      "\u001b[1;31mKeyboardInterrupt\u001b[0m                         Traceback (most recent call last)",
      "Cell \u001b[1;32mIn [2], line 14\u001b[0m\n\u001b[0;32m     12\u001b[0m score \u001b[39m=\u001b[39m \u001b[39m0\u001b[39m \n\u001b[0;32m     13\u001b[0m \u001b[39mwhile\u001b[39;00m \u001b[39mnot\u001b[39;00m done:\n\u001b[1;32m---> 14\u001b[0m \ttime\u001b[39m.\u001b[39;49msleep(\u001b[39m0.1\u001b[39;49m)\n\u001b[0;32m     15\u001b[0m \taction \u001b[39m=\u001b[39m random\u001b[39m.\u001b[39mchoice([\u001b[39m0\u001b[39m,\u001b[39m1\u001b[39m, \u001b[39m2\u001b[39m,\u001b[39m3\u001b[39m])\n\u001b[0;32m     16\u001b[0m \tobs, reward, done, truncated, info\u001b[39m=\u001b[39m env\u001b[39m.\u001b[39mstep(action)       \n",
      "\u001b[1;31mKeyboardInterrupt\u001b[0m: "
     ]
    }
   ],
   "source": [
    "import gym\n",
    "import random\n",
    "import time\n",
    "\n",
    "#env = gym.make('FrozenLake-v1', render_mode='human')\n",
    "env = gym.make('FrozenLake-v1', desc=None, map_name=\"4x4\", is_slippery=True, render_mode='human')\n",
    "\n",
    "episodes = 30\n",
    "for episode in range(1, episodes+1):\n",
    "\tstate = env.reset()\n",
    "\tdone = False\n",
    "\tscore = 0 \n",
    "\twhile not done:\n",
    "\t\ttime.sleep(0.1)\n",
    "\t\taction = random.choice([0,1, 2,3])\n",
    "\t\tobs, reward, done, truncated, info= env.step(action)       \n",
    "\t\tprint(obs, reward, done, truncated, info)\n",
    "\t\tscore+=reward\n",
    "\tprint('Episode:{} Score:{}'.format(episode, score))\n",
    "env.close()"
   ]
  },
  {
   "cell_type": "markdown",
   "metadata": {},
   "source": [
    "# readchar로 사람조정 버전\n",
    "- command에서 실행해야 조정가능"
   ]
  },
  {
   "cell_type": "code",
   "execution_count": 3,
   "metadata": {},
   "outputs": [],
   "source": [
    "import gym\n",
    "import readchar\n",
    "\n",
    "#MACROS\n",
    "LEFT = 0\n",
    "DOWN = 1\n",
    "RIGHT = 2\n",
    "UP = 3\n",
    " \n",
    "# Key mapping\n",
    "arrow_keys = {\n",
    "    'w' : UP,\n",
    "    's' : DOWN,\n",
    "    'd' : RIGHT,\n",
    "    'a' : LEFT\n",
    "}\n",
    " \n",
    "env = gym.make('FrozenLake-v1', desc=None, map_name=\"4x4\", is_slippery=False, render_mode='human')\n",
    "state = env.reset()\n",
    "\n",
    "while True:    \n",
    "    # Choose an action from keyboard\n",
    "    key = readchar.readkey()  \n",
    "    if key not in arrow_keys.keys():\n",
    "        \n",
    "        print(\"Game aborted!\")\n",
    "        break\n",
    " \n",
    "    action = arrow_keys[key]\n",
    "    # print(key, arrow_keys[key])\n",
    "    state, reward, done, truncated, info= env.step(action)       \n",
    "\n",
    "    env.render() # Show the board after action\n",
    "    print(\"State:\", state, \"Action\", action, \"Reward:\", reward, \"Info:\", info)\n",
    " \n",
    "    if done: \n",
    "        print(\"Finished with reward\", reward)\n",
    "        break"
   ]
  }
 ],
 "metadata": {
  "kernelspec": {
   "display_name": "Python 3.9.4 ('rl_py3.9')",
   "language": "python",
   "name": "python3"
  },
  "language_info": {
   "codemirror_mode": {
    "name": "ipython",
    "version": 3
   },
   "file_extension": ".py",
   "mimetype": "text/x-python",
   "name": "python",
   "nbconvert_exporter": "python",
   "pygments_lexer": "ipython3",
   "version": "3.9.4"
  },
  "orig_nbformat": 4,
  "vscode": {
   "interpreter": {
    "hash": "275a6cec42f43076eac2a72a2f60dcdeff137cf5a0abd26cf35d1d7722567a54"
   }
  }
 },
 "nbformat": 4,
 "nbformat_minor": 2
}
